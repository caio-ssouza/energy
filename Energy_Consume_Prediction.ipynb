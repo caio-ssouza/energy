{
  "cells": [
    {
      "cell_type": "markdown",
      "source": [
        "**Importação das bibliotecas**"
      ],
      "metadata": {
        "id": "NUtSii5PqO4Z"
      }
    },
    {
      "cell_type": "code",
      "execution_count": null,
      "metadata": {
        "id": "BS_Q46XZmLHF"
      },
      "outputs": [],
      "source": [
        "import pandas as pd\n",
        "import matplotlib.pyplot as plt\n",
        "import seaborn as sns\n",
        "from sklearn import metrics\n",
        "import time\n",
        "import numpy as np; np.random.seed(42)\n",
        "import io\n",
        "from sklearn.preprocessing import label_binarize\n",
        "from google.colab import files\n",
        "from sklearn.model_selection import GridSearchCV, train_test_split\n",
        "from sklearn.preprocessing import MinMaxScaler\n",
        "from sklearn.pipeline import make_pipeline\n",
        "from sklearn.ensemble import GradientBoostingRegressor\n",
        "import datetime as dt\n",
        "from sklearn.metrics import mean_squared_error\n",
        "from sklearn.metrics import r2_score\n",
        "from sklearn.ensemble import RandomForestRegressor\n",
        "import math"
      ]
    },
    {
      "cell_type": "markdown",
      "source": [
        "**Criação do dataset**"
      ],
      "metadata": {
        "id": "GzNNNmqnqW0d"
      }
    },
    {
      "cell_type": "code",
      "execution_count": null,
      "metadata": {
        "id": "uQk3E2hWmpZU"
      },
      "outputs": [],
      "source": [
        "uploaded = files.upload()"
      ]
    },
    {
      "cell_type": "code",
      "source": [
        "energy= pd.read_csv(r\"energydata_complete (1).csv\")"
      ],
      "metadata": {
        "id": "zugf60-DKbOL"
      },
      "execution_count": null,
      "outputs": []
    },
    {
      "cell_type": "markdown",
      "source": [
        "**Criação das variáveis extras**"
      ],
      "metadata": {
        "id": "Wvuk1BHYqeVD"
      }
    },
    {
      "cell_type": "code",
      "source": [
        "energy['month'] = energy['date'].astype(str).str[5:7]\n",
        "energy['day'] = energy['date'].astype(str).str[8:10]\n",
        "energy['hour'] = energy['date'].astype(str).str[11:13]\n",
        "energy['total_use']=energy['Appliances']+energy['lights']"
      ],
      "metadata": {
        "id": "w3cvehR3aEfZ"
      },
      "execution_count": null,
      "outputs": []
    },
    {
      "cell_type": "code",
      "source": [
        "energy['date']=pd.to_datetime(energy['date'])\n",
        "energy['NSM'] = ((energy['date'] - energy['date'].dt.normalize())/ pd.Timedelta('1 second')).astype(float)\n",
        "energy['day_of_week'] = energy['date'].dt.dayofweek\n",
        "energy['week_status']=np.where((energy['day_of_week'] == 5) | (energy[\"day_of_week\"] == 6), 0, 1)\n",
        "energy.pop('date')"
      ],
      "metadata": {
        "id": "a8zzY1d1K_cZ"
      },
      "execution_count": null,
      "outputs": []
    },
    {
      "cell_type": "markdown",
      "source": [
        "**Exploração do dataset e criação de visualizações**"
      ],
      "metadata": {
        "id": "jxTlzSBMaRBs"
      }
    },
    {
      "cell_type": "code",
      "source": [
        "energy.groupby(\"Appliances\").count()\n",
        "energy.groupby(\"lights\").count()"
      ],
      "metadata": {
        "id": "hCUbJobmaRJL"
      },
      "execution_count": null,
      "outputs": []
    },
    {
      "cell_type": "code",
      "source": [
        "df.groupby('month')\n",
        "energy_mean=energy.groupby(['month','day']).mean().reset_index()\n",
        "energy_sum=energy.groupby(['month','day']).sum().reset_index()"
      ],
      "metadata": {
        "id": "hW3mawVDaNMW"
      },
      "execution_count": null,
      "outputs": []
    },
    {
      "cell_type": "code",
      "source": [
        "plt.figure(figsize=(15,9))\n",
        "plt.plot(energy_sum['lights'], label= 'Lights')\n",
        "plt.plot(energy_sum['Appliances'],label = 'Appliances')\n",
        "plt.title(\"Energy Consumption in kWh per day\")\n",
        "plt.ylabel(\"kWh\")\n",
        "plt.xlabel(\"Days\")\n",
        "plt.legend();"
      ],
      "metadata": {
        "id": "TmeeyUTJadJj"
      },
      "execution_count": null,
      "outputs": []
    },
    {
      "cell_type": "code",
      "source": [
        "plt.figure(figsize=(25,15))\n",
        "plt.plot(energy_mean['T1'], label= 'kitchen ')\n",
        "plt.plot(energy_mean['T2'],label = 'living room')\n",
        "plt.plot(energy_mean['T3'], label= 'laundry ')\n",
        "plt.plot(energy_mean['T4'],label = 'office room')\n",
        "plt.plot(energy_mean['T5'], label= 'bathroom')\n",
        "plt.plot(energy_mean['T7'], label= 'ironing room')\n",
        "plt.plot(energy_mean['T8'], label= 'teenager room')\n",
        "plt.plot(energy_mean['T9'], label= 'parents room')\n",
        "plt.plot(energy_mean['T_out'],label = 'outside')\n",
        "plt.rc('xtick', labelsize=20) \n",
        "plt.rcParams['legend.fontsize'] = 17\n",
        "plt.rc('axes', labelsize=20)\n",
        "plt.title(\"Mean Day Temperature (Celsius)\")\n",
        "plt.ylabel(\"Temperature\")\n",
        "plt.xlabel(\"Days\")\n",
        "plt.legend();"
      ],
      "metadata": {
        "id": "30APnI4badMH"
      },
      "execution_count": null,
      "outputs": []
    },
    {
      "cell_type": "code",
      "source": [
        "data = pd.DataFrame(data = energy, columns = ['T1','T2','T3','T4','T5','T6','T7','T8','T9'])\n",
        "sns.boxplot(x=\"variable\", y=\"value\", data=pd.melt(data))\n",
        "plt.show()"
      ],
      "metadata": {
        "id": "tUiCV0AHadOx"
      },
      "execution_count": null,
      "outputs": []
    },
    {
      "cell_type": "code",
      "source": [
        "data = pd.DataFrame(data = energy, columns = ['RH_1','RH_2','RH_3','RH_4','RH_5','RH_6','RH_7','RH_8','RH_9'])\n",
        "sns.boxplot(x=\"variable\", y=\"value\", data=pd.melt(data))\n",
        "plt.show()"
      ],
      "metadata": {
        "id": "JG7e27ecadRO"
      },
      "execution_count": null,
      "outputs": []
    },
    {
      "cell_type": "code",
      "source": [
        "data = pd.DataFrame(data = energy, columns = [\"Appliances\"])\n",
        "sns.boxplot(x=\"variable\", y=\"value\", data=pd.melt(data))\n",
        "plt.xlabel('')\n",
        "plt.ylabel('kWh')\n",
        "plt.show()"
      ],
      "metadata": {
        "id": "HZwMs4Y-adT-"
      },
      "execution_count": null,
      "outputs": []
    },
    {
      "cell_type": "code",
      "source": [
        "data = pd.DataFrame(data = energy, columns = [\"lights\"])\n",
        "sns.boxplot(x=\"variable\", y=\"value\", data=pd.melt(data))\n",
        "plt.xlabel('')\n",
        "plt.ylabel('kWh')\n",
        "plt.show()"
      ],
      "metadata": {
        "id": "hXEm3scRadWD"
      },
      "execution_count": null,
      "outputs": []
    },
    {
      "cell_type": "code",
      "source": [
        "corr_energy = data.corr(method='pearson')\n",
        "plt.figure(figsize=(40, 30))\n",
        "sns.heatmap(corr_energy, annot=True)\n",
        "plt.rc('xtick', labelsize=20) \n",
        "plt.rc('ytick', labelsize=20) \n",
        "plt.rc('figure', titlesize=20)\n",
        "plt.show()"
      ],
      "metadata": {
        "id": "18yZ374Eandy"
      },
      "execution_count": null,
      "outputs": []
    },
    {
      "cell_type": "markdown",
      "source": [
        "**Separação dos conjuntos de treino e teste**"
      ],
      "metadata": {
        "id": "ST4WwLtKqlda"
      }
    },
    {
      "cell_type": "code",
      "source": [
        "y = energy.pop('Appliances')\n",
        "X = energy\n",
        "X_train, X_valid, y_train, y_valid = train_test_split(X, y, test_size=0.25)"
      ],
      "metadata": {
        "id": "6rIWckd1LG0P"
      },
      "execution_count": null,
      "outputs": []
    },
    {
      "cell_type": "markdown",
      "source": [
        "**Gradient Boosting Regressor**"
      ],
      "metadata": {
        "id": "4AX2vw29qxZ9"
      }
    },
    {
      "cell_type": "code",
      "source": [
        "model = make_pipeline(MinMaxScaler(),GradientBoostingRegressor())\n",
        "params = {'gradientboostingregressor__max_depth': range(3, 12), 'gradientboostingregressor__n_estimators': range(100, 2001, 100)}\n",
        "grid = GridSearchCV(model, params, cv=3)"
      ],
      "metadata": {
        "id": "E-SAiNBuLL8b"
      },
      "execution_count": null,
      "outputs": []
    },
    {
      "cell_type": "markdown",
      "source": [
        "Treino e resultados com o conjunto de testes"
      ],
      "metadata": {
        "id": "JRWZ9zOXrFRp"
      }
    },
    {
      "cell_type": "code",
      "source": [
        "grid.fit(X_train, y_train)\n",
        "grid.best_estimator_.score(X_valid, y_valid)"
      ],
      "metadata": {
        "id": "j-IRb6BiLV7Y"
      },
      "execution_count": null,
      "outputs": []
    },
    {
      "cell_type": "code",
      "source": [
        "grid.best_params_"
      ],
      "metadata": {
        "id": "TGXPJCMEDOU4"
      },
      "execution_count": null,
      "outputs": []
    },
    {
      "cell_type": "code",
      "source": [
        "mse = mean_squared_error(y_valid, grid.predict(X_valid))\n",
        "print(math.sqrt(mse))"
      ],
      "metadata": {
        "id": "HRDN5gD7DU21"
      },
      "execution_count": null,
      "outputs": []
    },
    {
      "cell_type": "markdown",
      "source": [
        "Resultados com o conjunto de treino"
      ],
      "metadata": {
        "id": "Gq0vUZBRsnG-"
      }
    },
    {
      "cell_type": "code",
      "source": [
        "r2_train_gb = r2_score(y_train, grid.predict(X_train))\n",
        "r2_train_gb"
      ],
      "metadata": {
        "id": "-QFom1CLsmXU"
      },
      "execution_count": null,
      "outputs": []
    },
    {
      "cell_type": "code",
      "source": [
        "mse_grid_train = mean_squared_error(y_train, grid.predict(X_train))\n",
        "print(math.sqrt(mse_grid_train))"
      ],
      "metadata": {
        "id": "lrWzIkKmstUl"
      },
      "execution_count": null,
      "outputs": []
    },
    {
      "cell_type": "markdown",
      "source": [
        "Importância dos atributos - Gradient Boosting"
      ],
      "metadata": {
        "id": "wTH3o_CKq50x"
      }
    },
    {
      "cell_type": "code",
      "source": [
        "variances = grid.best_estimator_.named_steps['gradientboostingregressor'].feature_importances_\n",
        "series = pd.Series(variances, index=X.columns, name='Explained Variances')\n",
        "series = series.sort_values(ascending=True)\n",
        "plt.figure(figsize=(18,6))\n",
        "plt.barh(series.index,series)\n",
        "plt.show()"
      ],
      "metadata": {
        "id": "zGyg5ClzDQU2"
      },
      "execution_count": null,
      "outputs": []
    },
    {
      "cell_type": "markdown",
      "source": [
        "**Random Forest Regressor**"
      ],
      "metadata": {
        "id": "v9x5zOAMr9Bi"
      }
    },
    {
      "cell_type": "code",
      "source": [
        "regr = make_pipeline(MinMaxScaler(),RandomForestRegressor())\n",
        "params_regr = {'randomforestregressor__n_estimators': range(100, 500, 100)}\n",
        "grid_regr = GridSearchCV(regr, params_regr, cv=3)"
      ],
      "metadata": {
        "id": "Umtzk20KDgCK"
      },
      "execution_count": null,
      "outputs": []
    },
    {
      "cell_type": "markdown",
      "source": [
        "Treino e resultados com o conjunto de testes"
      ],
      "metadata": {
        "id": "DhaqH-jIsC34"
      }
    },
    {
      "cell_type": "code",
      "source": [
        "grid_regr.fit(X_train, y_train)"
      ],
      "metadata": {
        "id": "6cdaAC43Dil7"
      },
      "execution_count": null,
      "outputs": []
    },
    {
      "cell_type": "code",
      "source": [
        "grid_regr.best_estimator_.score(X_valid, y_valid)"
      ],
      "metadata": {
        "id": "b7oBG7k5K3T8"
      },
      "execution_count": null,
      "outputs": []
    },
    {
      "cell_type": "code",
      "source": [
        "grid_regr.best_params_"
      ],
      "metadata": {
        "id": "moqGM9wWK7lG"
      },
      "execution_count": null,
      "outputs": []
    },
    {
      "cell_type": "code",
      "source": [
        "mse_regr = mean_squared_error(y_valid, grid_regr.predict(X_valid))\n",
        "print(math.sqrt(mse_regr))"
      ],
      "metadata": {
        "id": "9DGbqag9LHfx"
      },
      "execution_count": null,
      "outputs": []
    },
    {
      "cell_type": "markdown",
      "source": [
        "Resultados com o conjunto de treino"
      ],
      "metadata": {
        "id": "DTwteQ42sbCk"
      }
    },
    {
      "cell_type": "code",
      "source": [
        "r2_train_rf = r2_score(y_train, grid_regr.predict(X_train))\n",
        "r2_train_rf"
      ],
      "metadata": {
        "id": "Uv15g65NsfmH"
      },
      "execution_count": null,
      "outputs": []
    },
    {
      "cell_type": "code",
      "source": [
        "mse_regr_train = mean_squared_error(y_train, grid_regr.predict(X_train))\n",
        "print(math.sqrt(mse_regr_train))"
      ],
      "metadata": {
        "id": "qjyisl-Ps_ND"
      },
      "execution_count": null,
      "outputs": []
    },
    {
      "cell_type": "markdown",
      "source": [
        "Importância dos atributos - Random Forest"
      ],
      "metadata": {
        "id": "XwE-LkN6sPGI"
      }
    },
    {
      "cell_type": "code",
      "source": [
        "variances_rf = grid_regr.best_estimator_.named_steps['randomforestregressor'].feature_importances_\n",
        "series_rf = pd.Series(variances_rf, index=X.columns, name='Explained Variances')\n",
        "series_rf = series_rf.sort_values(ascending=True)\n",
        "plt.figure(figsize=(18,6))\n",
        "plt.barh(series_rf.index,series)\n",
        "plt.show()"
      ],
      "metadata": {
        "id": "Ccxo-jy_Ld6l"
      },
      "execution_count": null,
      "outputs": []
    }
  ],
  "metadata": {
    "colab": {
      "name": "Energy Consume Prediction",
      "provenance": [],
      "collapsed_sections": []
    },
    "kernelspec": {
      "display_name": "Python 3",
      "name": "python3"
    },
    "language_info": {
      "name": "python"
    }
  },
  "nbformat": 4,
  "nbformat_minor": 0
}